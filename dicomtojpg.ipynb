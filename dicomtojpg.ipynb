{
 "cells": [
  {
   "cell_type": "code",
   "execution_count": 15,
   "metadata": {},
   "outputs": [
    {
     "name": "stdout",
     "output_type": "stream",
     "text": [
      "Loaded the images of dataset-0015ceb851d7251b8f399e39779d1e7d\n",
      "\n"
     ]
    },
    {
     "ename": "PermissionError",
     "evalue": "[Errno 13] Permission denied: 'D:\\\\riya\\\\DL-MP\\\\kaggle\\\\stage1\\\\stage1\\\\/0015ceb851d7251b8f399e39779d1e7d'",
     "output_type": "error",
     "traceback": [
      "\u001b[1;31m---------------------------------------------------------------------------\u001b[0m",
      "\u001b[1;31mPermissionError\u001b[0m                           Traceback (most recent call last)",
      "\u001b[1;32m<ipython-input-15-16a3d4b483b4>\u001b[0m in \u001b[0;36m<module>\u001b[1;34m()\u001b[0m\n\u001b[0;32m     30\u001b[0m         \u001b[1;32mfor\u001b[0m \u001b[0mimg\u001b[0m \u001b[1;32min\u001b[0m \u001b[0mimg_list\u001b[0m\u001b[1;33m:\u001b[0m\u001b[1;33m\u001b[0m\u001b[0m\n\u001b[0;32m     31\u001b[0m         \u001b[1;31m#cv2.imwrite(outdir + f.replace('.dcm','.jpg'),img)\u001b[0m\u001b[1;33m\u001b[0m\u001b[1;33m\u001b[0m\u001b[0m\n\u001b[1;32m---> 32\u001b[1;33m                 \u001b[0mds\u001b[0m \u001b[1;33m=\u001b[0m \u001b[0mpydicom\u001b[0m\u001b[1;33m.\u001b[0m\u001b[0mread_file\u001b[0m\u001b[1;33m(\u001b[0m\u001b[0mdata_path\u001b[0m \u001b[1;33m+\u001b[0m \u001b[1;34m'/'\u001b[0m \u001b[1;33m+\u001b[0m \u001b[0mdataset\u001b[0m\u001b[1;33m)\u001b[0m \u001b[1;31m# read dicom image\u001b[0m\u001b[1;33m\u001b[0m\u001b[0m\n\u001b[0m\u001b[0;32m     33\u001b[0m \u001b[1;33m\u001b[0m\u001b[0m\n\u001b[0;32m     34\u001b[0m         \u001b[1;31m#input_img=pydicom.read_file(data_path + '/'+ dataset + '/'+ img )\u001b[0m\u001b[1;33m\u001b[0m\u001b[1;33m\u001b[0m\u001b[0m\n",
      "\u001b[1;32m~\\Anaconda3\\envs\\mdp_lc\\lib\\site-packages\\pydicom\\filereader.py\u001b[0m in \u001b[0;36mdcmread\u001b[1;34m(fp, defer_size, stop_before_pixels, force, specific_tags)\u001b[0m\n\u001b[0;32m    854\u001b[0m         \u001b[1;32mexcept\u001b[0m \u001b[0mException\u001b[0m\u001b[1;33m:\u001b[0m\u001b[1;33m\u001b[0m\u001b[0m\n\u001b[0;32m    855\u001b[0m             \u001b[0mlogger\u001b[0m\u001b[1;33m.\u001b[0m\u001b[0mdebug\u001b[0m\u001b[1;33m(\u001b[0m\u001b[1;34m\"Reading file '{0}'\"\u001b[0m\u001b[1;33m.\u001b[0m\u001b[0mformat\u001b[0m\u001b[1;33m(\u001b[0m\u001b[0mfp\u001b[0m\u001b[1;33m)\u001b[0m\u001b[1;33m)\u001b[0m\u001b[1;33m\u001b[0m\u001b[0m\n\u001b[1;32m--> 856\u001b[1;33m         \u001b[0mfp\u001b[0m \u001b[1;33m=\u001b[0m \u001b[0mopen\u001b[0m\u001b[1;33m(\u001b[0m\u001b[0mfp\u001b[0m\u001b[1;33m,\u001b[0m \u001b[1;34m'rb'\u001b[0m\u001b[1;33m)\u001b[0m\u001b[1;33m\u001b[0m\u001b[0m\n\u001b[0m\u001b[0;32m    857\u001b[0m \u001b[1;33m\u001b[0m\u001b[0m\n\u001b[0;32m    858\u001b[0m     \u001b[1;32mif\u001b[0m \u001b[0mconfig\u001b[0m\u001b[1;33m.\u001b[0m\u001b[0mdebugging\u001b[0m\u001b[1;33m:\u001b[0m\u001b[1;33m\u001b[0m\u001b[0m\n",
      "\u001b[1;31mPermissionError\u001b[0m: [Errno 13] Permission denied: 'D:\\\\riya\\\\DL-MP\\\\kaggle\\\\stage1\\\\stage1\\\\/0015ceb851d7251b8f399e39779d1e7d'"
     ]
    }
   ],
   "source": [
    "import cv2\n",
    "import os\n",
    "import pydicom\n",
    "\n",
    "#inputdir = 'D:\\\\riya\\\\DL-MP\\\\kaggle\\\\stage1\\\\stage1'\n",
    "#outdir = './'\n",
    "#os.mkdir(outdir)\n",
    "\n",
    "\n",
    "PATH = os.getcwd()\n",
    "# Define data path\n",
    "data_path = \"D:\\\\riya\\\\DL-MP\\\\kaggle\\\\stage1\\\\stage1\\\\\"\n",
    "outdir = \"D:\\\\riya\\\\DL-MP\\\\kaggle\\\\stage1-jpg\\\\\"\n",
    "data_dir_list = os.listdir(data_path)\n",
    "\n",
    "img_rows=512\n",
    "img_cols=512\n",
    "img_width= 50\n",
    "#num_channel=1\n",
    "#num_epoch=20\n",
    "\n",
    "# Define the number of classes\n",
    "#num_classes = 2\n",
    "\n",
    "img_data_list=[]\n",
    "\n",
    "for dataset in data_dir_list:\n",
    "\timg_list=os.listdir(data_path+'/'+ dataset)\n",
    "\tprint ('Loaded the images of dataset-'+'{}\\n'.format(dataset))\n",
    "\tfor img in img_list:\n",
    "        #cv2.imwrite(outdir + f.replace('.dcm','.jpg'),img)\n",
    "\t\tds = pydicom.read_file(data_path + '/' + dataset) # read dicom image\n",
    "        \n",
    "        #input_img=pydicom.read_file(data_path + '/'+ dataset + '/'+ img )\n",
    "\t\timg = ds.pixel_array # get image array\n",
    "        #input_img=cv2.cvtColor(input_img, cv2.COLOR_BGR2GRAY)\n",
    "\t\tinput_img_resize=cv2.resize(ds,(512,512,50))\n",
    "\t\timg_data_list.append(input_img_resize)\n",
    "\t\tcv2.imwrite(outdir + f.replace('.dcm','.jpg'),img)\n",
    "\n",
    "ds = np.array(img_data_list)\n",
    "ds = img_data.astype('float32')\n",
    "ds /= 255\n",
    "print (ds.shape)\n",
    "\n",
    "#test_list = [ f for f in  os.listdir(inputdir)]\n",
    "\n",
    "#for f in test_list[:10]:   # remove \"[:10]\" to convert all images \n",
    "#    ds = pydicom.read_file(inputdir + f) # read dicom image\n",
    " #   img = ds.pixel_array # get image array\n",
    "  #  cv2.imwrite(outdir + f.replace('.dcm','.jpg'),img) # write png image"
   ]
  },
  {
   "cell_type": "code",
   "execution_count": null,
   "metadata": {},
   "outputs": [],
   "source": []
  }
 ],
 "metadata": {
  "kernelspec": {
   "display_name": "Python 3",
   "language": "python",
   "name": "python3"
  },
  "language_info": {
   "codemirror_mode": {
    "name": "ipython",
    "version": 3
   },
   "file_extension": ".py",
   "mimetype": "text/x-python",
   "name": "python",
   "nbconvert_exporter": "python",
   "pygments_lexer": "ipython3",
   "version": "3.5.6"
  }
 },
 "nbformat": 4,
 "nbformat_minor": 2
}
