{
 "cells": [
  {
   "cell_type": "markdown",
   "metadata": {},
   "source": [
    "# This notebook uses LUNA16 dataset, to train a classifier that classifies a region as nodule or no nodule\n",
    "\n",
    "The luna16 dataset contains several subsets, this notebook requires the subset(num) and location of annotations file"
   ]
  },
  {
   "cell_type": "markdown",
   "metadata": {
    "collapsed": true
   },
   "source": [
    "## Getting the training data"
   ]
  },
  {
   "cell_type": "code",
   "execution_count": 1,
   "metadata": {},
   "outputs": [],
   "source": [
    "from numpy.random import randint\n",
    "import numpy as np"
   ]
  },
  {
   "cell_type": "markdown",
   "metadata": {},
   "source": [
    "### Utility functions for the function create_data which creates training data"
   ]
  },
  {
   "cell_type": "code",
   "execution_count": 2,
   "metadata": {},
   "outputs": [],
   "source": [
    "def check_less(num):\n",
    "    if num - 18 < 0:\n",
    "        return num  \n",
    "    else:\n",
    "        return num - 18\n",
    "    \n",
    "def get_patch_from_list(lung_img, coords, window_size = 10):\n",
    "\tshape = lung_img.shape\n",
    "\toutput = []\n",
    "\tlung_img = lung_img + 1024\n",
    "\tfor i in range(len(coords)):\n",
    "\t\tpatch =   lung_img[coords[i][0] - 18: coords[i][0] + 18,\n",
    "\t\t\t\t\t\t   coords[i][1] - 18: coords[i][1] + 18,\n",
    "\t\t\t\t\t\t   coords[i][2] - 18: coords[i][2] + 18]\t\t\t   \n",
    "\t\toutput.append(patch)\n",
    "\treturn output\n",
    "\n",
    "'''\n",
    "Sample a random point from the image and return the coordinates. \n",
    "'''\n",
    "def get_point(shape):\n",
    "\tx = randint(64, shape[2] - 64)\n",
    "\ty = randint(64, shape[1] - 64)\n",
    "\tz = randint(20, shape[0] - 20)\n",
    "\treturn np.asarray([z, y, x])"
   ]
  },
  {
   "cell_type": "code",
   "execution_count": 8,
   "metadata": {},
   "outputs": [],
   "source": [
    "import SimpleITK as sitk\n",
    "import os\n",
    "import pickle\n",
    "\n",
    "much_data = []\n",
    "def create_data(path, train_csv_path):\n",
    "    coords, trainY = [], []\n",
    "    with open(train_csv_path, 'rb') as f:\n",
    "        lines = f.readlines()\n",
    "        counter = 0\n",
    "        for line in lines:\n",
    "            row = line.decode().split(',')\n",
    "            \n",
    "            all_images = []\n",
    "            all_labels = []\n",
    "            \n",
    "            \n",
    "            if os.path.isfile(path + row[0] + '.mhd') == False:\n",
    "                continue\n",
    "\n",
    "            lung_img = sitk.GetArrayFromImage(sitk.ReadImage(path + row[0] + '.mhd'))\n",
    "\n",
    "            for i in range(-5, 5, 3):\n",
    "                for j in range(-5, 5, 3):\n",
    "                    for k in range(-2, 3, 2):\n",
    "                        coords.append([int(float(row[3])) + k, int(float(row[2])) + j, int(float(row[1])) + i])\n",
    "                        trainY.append(True)\n",
    "                        \n",
    "            for i in range(60):\n",
    "                coords.append(get_point(lung_img.shape))\n",
    "                trainY.append(False)\n",
    "\n",
    "            trainX = get_patch_from_list(lung_img, coords)\n",
    "            \n",
    "\n",
    "            \n",
    "            for elem,x in zip(trainX,trainY):\n",
    "                if elem.shape[0]==36 and elem.shape[1]==36 and elem.shape[2]==36:\n",
    "                    all_images.append(elem)\n",
    "                    all_labels.append(x)\n",
    "            \n",
    "\n",
    "            pickle.dump(np.asarray(all_images), open('C:\\\\Users\\\\dc\\\\Documents\\\\riya\\\\Lung-Cancer-Detection-master\\\\nodule_2\\\\traindata_' + str(counter) + '_Xtrain.p', 'wb'))\n",
    "            pickle.dump(np.asarray(all_labels, dtype = bool),  open('C:\\\\Users\\\\dc\\\\Documents\\\\riya\\\\Lung-Cancer-Detection-master\\\\nodule_2\\\\traindata_' + str(counter) + '_Ytrain.p', 'wb'))\n",
    "\n",
    "            counter = counter + 1\n",
    "            \n",
    "            coords, trainY = [], []\n",
    "    "
   ]
  },
  {
   "cell_type": "code",
   "execution_count": 9,
   "metadata": {},
   "outputs": [],
   "source": [
    "create_data('D:\\\\riya\\\\DL-MP\\\\data\\\\', 'D:\\\\riya\\\\DL-MP\\\\CSVFILES\\\\CSVFILES\\\\annotations.csv')"
   ]
  },
  {
   "cell_type": "markdown",
   "metadata": {},
   "source": [
    "### Data is created in nodules_2 folder, divide into train and val. After this network is trained. There are 2 classes - nodule or no-nodule"
   ]
  },
  {
   "cell_type": "code",
   "execution_count": 3,
   "metadata": {},
   "outputs": [],
   "source": [
    "from numpy.random import randint\n",
    "from keras.models import Sequential\n",
    "from keras.layers import Dense, Dropout, Activation, Flatten\n",
    "from keras.layers import Convolution3D, MaxPooling3D\n",
    "from keras.utils import np_utils\n",
    "from keras import backend as K\n",
    "\n",
    "'''\n",
    "Creates a keras model with 3D CNNs and returns the model.\n",
    "'''\n",
    "def classifier(input_shape, kernel_size, pool_size):\n",
    "\tmodel = Sequential()\n",
    "\n",
    "\tmodel.add(Convolution3D(16, kernel_size[0], kernel_size[1], kernel_size[2],\n",
    "\t                        border_mode='valid',\n",
    "\t                        input_shape=input_shape, data_format = 'channels_first'))\n",
    "\tmodel.add(Activation('relu'))\n",
    "\tmodel.add(MaxPooling3D(pool_size=pool_size, data_format = 'channels_first') )\n",
    "\tmodel.add(Convolution3D(32, kernel_size[0], kernel_size[1], kernel_size[2], data_format = 'channels_first'))\n",
    "\tmodel.add(Activation('relu'))\n",
    "\tmodel.add(MaxPooling3D(pool_size=pool_size, data_format = 'channels_first'))\n",
    "\tmodel.add(Convolution3D(64, kernel_size[0], kernel_size[1], kernel_size[2], data_format = 'channels_first'))\n",
    "\tmodel.add(Activation('relu'))\n",
    "\tmodel.add(MaxPooling3D(pool_size=pool_size, data_format = 'channels_first'))\n",
    "\tmodel.add(Dropout(0.25))\n",
    "\n",
    "\tmodel.add(Flatten())\n",
    "\tmodel.add(Dense(512))\n",
    "\tmodel.add(Activation('relu'))\n",
    "\tmodel.add(Dropout(0.5))\n",
    "\tmodel.add(Dense(128))\n",
    "\tmodel.add(Activation('relu'))\n",
    "\tmodel.add(Dropout(0.5))\n",
    "\tmodel.add(Dense(2))\n",
    "\tmodel.add(Activation('softmax'))\n",
    "\n",
    "\treturn model"
   ]
  },
  {
   "cell_type": "code",
   "execution_count": 4,
   "metadata": {},
   "outputs": [],
   "source": [
    "import pickle,sys\n",
    "import numpy as np\n",
    "from keras.layers.core import Activation, Reshape\n",
    "\n",
    "def train_classifier(input_shape):\n",
    "    val_x = []\n",
    "    val_y = []\n",
    "    model = classifier(input_shape, (3, 3, 3), (2, 2, 2))\n",
    "    model.compile(loss='categorical_crossentropy',optimizer='adam',metrics=['accuracy'])\n",
    "    \n",
    "    for i in range(801,1186):\n",
    "        file_name = 'C:\\\\Users\\\\dc\\\\Documents\\\\riya\\\\Lung-Cancer-Detection-master\\\\nodule_2\\\\val\\\\traindata_'+str(i)+'_Xtrain.p'\n",
    "        f = open(file_name,'rb')\n",
    "        file_data = pickle.load(f)\n",
    "        \n",
    "        file_name_y = 'C:\\\\Users\\\\dc\\\\Documents\\\\riya\\\\Lung-Cancer-Detection-master\\\\nodule_2\\\\val\\\\traindata_'+str(i)+'_Ytrain.p'\n",
    "        f_y = open(file_name_y,'rb')\n",
    "        file_data_y = pickle.load(f_y)\n",
    "        for j in range(len(file_data)):\n",
    "            val_x.append(file_data[j].reshape(1,36,36,36))\n",
    "            #val_y.append(file_data_y[j])\n",
    "            if file_data_y[j] == True:\n",
    "                val_y.append([1,0])\n",
    "            else:\n",
    "                val_y.append([0,1])\n",
    "            \n",
    "    print(np.array(val_x).shape)\n",
    "    print(np.array(val_y).shape)\n",
    "    for i in range(224, 235):\n",
    "        train_x = []\n",
    "        train_y = []\n",
    "        file_name = 'C:\\\\Users\\\\dc\\\\Documents\\\\riya\\\\Lung-Cancer-Detection-master\\\\nodule_2\\\\train\\\\traindata_'+str(i)+'_Xtrain.p'\n",
    "        f = open(file_name,'rb')\n",
    "        file_data = pickle.load(f)\n",
    "        \n",
    "        file_name_y = 'C:\\\\Users\\\\dc\\\\Documents\\\\riya\\\\Lung-Cancer-Detection-master\\\\nodule_2\\\\train\\\\traindata_'+str(i)+'_Ytrain.p'\n",
    "        f_y = open(file_name_y,'rb')\n",
    "        file_data_y = pickle.load(f_y)\n",
    "        \n",
    "        for j in range(len(file_data)):\n",
    "            #train_x.append(Reshape((36,36,36) + (1,),input_shape = (36,36,36))(np.ndarray.tolist(file_data[j])))\n",
    "            train_x.append(file_data[j].reshape((1,36,36,36)))\n",
    "            if file_data_y[j] == True:\n",
    "                train_y.append([1,0])\n",
    "            else:\n",
    "                train_y.append([0,1])\n",
    "        \n",
    "        #x = Reshape(input_shape + (1, ), input_shape=input_shape)(inputs)\n",
    "        model.train_on_batch(np.array(train_x), np.array(train_y), sample_weight=None)\n",
    "        print('network trained')\n",
    "        \n",
    "        \n",
    "        \n",
    "        val_x = val_x[:108]\n",
    "        for num in range(0,len(val_x),108):\n",
    "            print('accuracy for test is ')\n",
    "            print (model.test_on_batch(np.array(val_x[num:num + 108]), np.array(val_y[num:num+108]), sample_weight=None))\n",
    "        \n",
    "    model.save('C:\\\\Users\\\\dc\\\\Documents\\\\riya\\\\Lung-Cancer-Detection-master\\\\Output\\\\model.h5')\n",
    "\n"
   ]
  },
  {
   "cell_type": "code",
   "execution_count": 5,
   "metadata": {},
   "outputs": [
    {
     "name": "stderr",
     "output_type": "stream",
     "text": [
      "C:\\Users\\dc\\Anaconda3\\lib\\site-packages\\ipykernel_launcher.py:16: UserWarning: Update your `Conv3D` call to the Keras 2 API: `Conv3D(16, (3, 3, 3), input_shape=(1, 36, 36..., data_format=\"channels_first\", padding=\"valid\")`\n",
      "  app.launch_new_instance()\n",
      "C:\\Users\\dc\\Anaconda3\\lib\\site-packages\\ipykernel_launcher.py:19: UserWarning: Update your `Conv3D` call to the Keras 2 API: `Conv3D(32, (3, 3, 3), data_format=\"channels_first\")`\n",
      "C:\\Users\\dc\\Anaconda3\\lib\\site-packages\\ipykernel_launcher.py:22: UserWarning: Update your `Conv3D` call to the Keras 2 API: `Conv3D(64, (3, 3, 3), data_format=\"channels_first\")`\n"
     ]
    },
    {
     "name": "stdout",
     "output_type": "stream",
     "text": [
      "(31390, 1, 36, 36, 36)\n",
      "(31390, 2)\n",
      "network trained\n",
      "accuracy for test is \n",
      "[8.954497, 0.44444445]\n",
      "network trained\n",
      "accuracy for test is \n",
      "[8.799113, 0.44444445]\n",
      "network trained\n",
      "accuracy for test is \n",
      "[7.163598, 0.5555556]\n",
      "network trained\n",
      "accuracy for test is \n",
      "[7.163598, 0.5555556]\n",
      "network trained\n",
      "accuracy for test is \n",
      "[7.163598, 0.5555556]\n",
      "network trained\n",
      "accuracy for test is \n",
      "[7.163598, 0.5555556]\n",
      "network trained\n",
      "accuracy for test is \n",
      "[7.163598, 0.5555556]\n",
      "network trained\n",
      "accuracy for test is \n",
      "[7.163598, 0.5555556]\n",
      "network trained\n",
      "accuracy for test is \n",
      "[7.163598, 0.5555556]\n",
      "network trained\n",
      "accuracy for test is \n",
      "[7.163598, 0.5555556]\n",
      "network trained\n",
      "accuracy for test is \n",
      "[7.163598, 0.5555556]\n"
     ]
    }
   ],
   "source": [
    "train_classifier((1,36,36,36))\n"
   ]
  },
  {
   "cell_type": "code",
   "execution_count": null,
   "metadata": {},
   "outputs": [],
   "source": []
  }
 ],
 "metadata": {
  "kernelspec": {
   "display_name": "Python 3",
   "language": "python",
   "name": "python3"
  },
  "language_info": {
   "codemirror_mode": {
    "name": "ipython",
    "version": 3
   },
   "file_extension": ".py",
   "mimetype": "text/x-python",
   "name": "python",
   "nbconvert_exporter": "python",
   "pygments_lexer": "ipython3",
   "version": "3.5.6"
  }
 },
 "nbformat": 4,
 "nbformat_minor": 2
}
